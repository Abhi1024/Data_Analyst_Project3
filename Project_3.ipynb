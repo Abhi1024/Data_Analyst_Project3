{
 "cells": [
  {
   "attachments": {},
   "cell_type": "markdown",
   "metadata": {},
   "source": [
    "# Project 3 --> Game Project"
   ]
  },
  {
   "cell_type": "code",
   "execution_count": 29,
   "metadata": {},
   "outputs": [
    {
     "name": "stdout",
     "output_type": "stream",
     "text": [
      "rock\n",
      "User Win.\n"
     ]
    }
   ],
   "source": [
    "import random\n",
    "\n",
    "ran_user = [\"Rock\",\"Paper\",\"Scissor\"]\n",
    "shake = random.choice(ran_user)\n",
    "print(shake.lower())\n",
    "\n",
    "user = input(\"Enter the Choice = \")\n",
    "\n",
    "if shake == \"Rock\" and user == \"Paper\" or shake == \"Scissor\" and user == \"Rock\" or shake == \"Paper\" and user == \"Scissor\":\n",
    "    print(\"User Win.\")\n",
    "elif shake == \"Rock\" and user == \"Rock\" or shake == \"Paper\" and user == \"Paper\" or shake == \"Scissor\" and user == \"Scissor\":\n",
    "    print(\"Tie.\")\n",
    "else:\n",
    "    print(\"Random User Win.\")"
   ]
  }
 ],
 "metadata": {
  "kernelspec": {
   "display_name": "Python 3",
   "language": "python",
   "name": "python3"
  },
  "language_info": {
   "codemirror_mode": {
    "name": "ipython",
    "version": 3
   },
   "file_extension": ".py",
   "mimetype": "text/x-python",
   "name": "python",
   "nbconvert_exporter": "python",
   "pygments_lexer": "ipython3",
   "version": "3.11.2"
  },
  "orig_nbformat": 4
 },
 "nbformat": 4,
 "nbformat_minor": 2
}
